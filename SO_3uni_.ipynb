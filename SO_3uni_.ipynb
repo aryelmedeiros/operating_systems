{
  "nbformat": 4,
  "nbformat_minor": 0,
  "metadata": {
    "colab": {
      "provenance": []
    },
    "kernelspec": {
      "name": "python3",
      "display_name": "Python 3"
    },
    "language_info": {
      "name": "python"
    }
  },
  "cells": [
    {
      "cell_type": "markdown",
      "source": [
        "# Alagorimos de Substituição implementados com Threads\n"
      ],
      "metadata": {
        "id": "0MuFZCXhFuOL"
      }
    },
    {
      "cell_type": "markdown",
      "source": [
        "## Importando Bibliotecas"
      ],
      "metadata": {
        "id": "ZEzLBv-AF7dt"
      }
    },
    {
      "cell_type": "markdown",
      "source": [
        "### Para conseguir trabalhar com multithreads em Pyhton, primeiro precisamos fazer a importação da biblioteca Threading. Essa biblioteca é que nos permitirá depois criar cada uma das threads do programa atraves da função `thread.Thread`, atribuimos uma variavel para essa função e passamos como argumentos o nome da função que será processda na thread bem como os argumentos exigidos por aquela função"
      ],
      "metadata": {
        "id": "hJnR5L8nMmaf"
      }
    },
    {
      "cell_type": "code",
      "execution_count": 55,
      "metadata": {
        "id": "LzecG8MpFbax"
      },
      "outputs": [],
      "source": [
        "import numpy as np \n",
        "import threading \n",
        "import time"
      ]
    },
    {
      "cell_type": "markdown",
      "source": [
        "##Criando as funções que serão as threads para os algoritimos de substituição de paginas `First-In First-Out (FIFO`, `Least Recently Used(LRU)` e o algoritmo `Ótimo`\n"
      ],
      "metadata": {
        "id": "M2gIbgc7GGDZ"
      }
    },
    {
      "cell_type": "markdown",
      "source": [
        "###Para cada uma das funções, passamos como parametros o numero de quadros disponivel e uma lista contendo com  as referências a páginas de um determinado processo.\n",
        "\n",
        "O algoritmo FIFO significa que a primeira página à ocupar um quadro será também a primeira a desoculpa-lo quando chegar a vez de alocar um quadro para uma nova página. Sua implementação pode ser considereda simples, seu algoritmo intera sobre a lista de paginas e verifica se a pagina 'i' já existe na tabela, caso não exista ou os quadros já estejam todos ocupados, uma falha de página é computada na variavel 'falhas' e então a pagina é inserida na posição correspondente da tabela de quandros. Uma vez inserida, a variavel contador das posições 'j' da tabela move para o quadro seguinte linha sequinte.\n",
        "\n",
        "Caso a página já esteja inserida na tabela de quadros, um acerto é computado. Por fim, a função imprime na tela as refências de páginas verificadas e a quantidade de falhas e acertos computadas"
      ],
      "metadata": {
        "id": "YtVIbzeSG1Z_"
      }
    },
    {
      "cell_type": "code",
      "source": [
        "def FIFO (n_quadros,ref):\n",
        "\n",
        "  quadros = np.full(n_quadros, np.inf)\n",
        "  #print(quadros)\n",
        "  acertos = 0\n",
        "  falhas = 0\n",
        "  j=1\n",
        "\n",
        "  for i in range(0,len(ref)):\n",
        "    #print(\"REF \", ref[i])\n",
        "    if ref[i] in quadros:\n",
        "      #print(\"ACERTO: \", ref[i],'\\n')\n",
        "      acertos +=1\n",
        "    else:\n",
        "      #print(\"FALAHA :\" , ref[i],'\\n')\n",
        "      falhas += 1 \n",
        "      quadros[j] = ref[i]\n",
        "      #print(quadros[j], end=' ')\n",
        "      j+=1\n",
        "      if j >= n_quadros:\n",
        "        j = 0 \n",
        "        #print()\n",
        "         \n",
        "  #print()\n",
        "  print(\"FIFO:\")\n",
        "  print(\"  Referencias: \", ref, len(ref))\n",
        "  print(\"  Falhas: \", falhas)\n",
        "  print(\"  Acertos: \", acertos)"
      ],
      "metadata": {
        "id": "zN8HN_PfGFvM"
      },
      "execution_count": 47,
      "outputs": []
    },
    {
      "cell_type": "markdown",
      "source": [
        "### Para o algoritmo LRU"
      ],
      "metadata": {
        "id": "-uJCwDQVb3vd"
      }
    },
    {
      "cell_type": "code",
      "source": [
        "\n",
        "def LRU(n_quadros, ref):\n",
        "\n",
        "  acertos  = 0\n",
        "  falhas = 0\n",
        "\n",
        "  pages = []\n",
        "  \n",
        "  for pag in ref:\n",
        "\n",
        "    # if a ref_page already exists in pages list, remove it and append it at the end\n",
        "    if pag in pages:\n",
        "        pages.remove(pag)\n",
        "        \n",
        "        pages.append(pag)\n",
        "        \n",
        "        # incrementing the page hits\n",
        "        acertos += 1\n",
        "\n",
        "    # if ref_page is not in the pages list\n",
        "    else:\n",
        "        # incrementing the page faults\n",
        "        falhas +=1\n",
        "        \n",
        "        # check length of the pages list. If length of pages list\n",
        "        # is less than memory size, append ref_page into pages list\n",
        "        if(len(pages) < n_quadros):\n",
        "            pages.append(pag)\n",
        "        \n",
        "        # if length of pages list is greater than or equal to memory size,\n",
        "        # remove first page of pages list and append new page to pages\n",
        "        else:\n",
        "            pages.remove(pages[0])\n",
        "            \n",
        "            pages.append(pag)\n",
        "\n",
        "  print(\"RLU:\")\n",
        "  print(\"  Referencias: \", ref, len(ref))\n",
        "  print(\"  Falhas: \", falhas)\n",
        "  print(\"  Acertos: \", acertos)\n",
        "\n",
        "\n"
      ],
      "metadata": {
        "id": "jPm-YqeGfhOM"
      },
      "execution_count": 48,
      "outputs": []
    },
    {
      "cell_type": "markdown",
      "source": [
        "###Para o algoritmo Ótimo\n"
      ],
      "metadata": {
        "id": "c7vw6-bxfavg"
      }
    },
    {
      "cell_type": "code",
      "source": [
        "def otimo(n_quadros,ref):\n",
        "\n",
        "  quadros = []\n",
        "  falhas = 0\n",
        "  acertos = 0\n",
        "  pf = 'No'\n",
        "\n",
        "  occurance = [None for i in range(n_quadros)]\n",
        "\n",
        "  for i in range(len(ref)):\n",
        "      if ref[i] not in quadros:\n",
        "          if len(quadros)<n_quadros:\n",
        "              quadros.append(ref[i])\n",
        "          else:\n",
        "              for x in range(len(quadros)):\n",
        "                  if quadros[x] not in ref[i+1:]:\n",
        "                      quadros[x] = ref[i]\n",
        "                      break\n",
        "                  else:\n",
        "                      occurance[x] = ref[i+1:].index(quadros[x])\n",
        "              else:\n",
        "                  quadros[occurance.index(max(occurance))] = ref[i]\n",
        "          falhas += 1\n",
        "          pf = 'Falha'\n",
        "      else:\n",
        "          pf = 'Acerto'\n",
        "          acertos +=1\n",
        "      #print(\"   %d\\t\\t\"%ref[i],end='')\n",
        "      #for x in quadros:\n",
        "          #print(x,end=' ')\n",
        "      #for x in range(n_quadros-len(quadros)):\n",
        "          #print(' ',end=' ')\n",
        "      #print(\" %s\"%pf)\n",
        "  print(\"OTIMO: \")\n",
        "  print(\"  Referencias: \", ref, len(ref))\n",
        "  print(\"  Falhas: \", falhas)\n",
        "  print(\"  Acertos: \", acertos)"
      ],
      "metadata": {
        "id": "geZthKIHnf9z"
      },
      "execution_count": 49,
      "outputs": []
    },
    {
      "cell_type": "markdown",
      "source": [
        "## Iniciando as Threads "
      ],
      "metadata": {
        "id": "fW45gNFoHY37"
      }
    },
    {
      "cell_type": "code",
      "source": [
        "ref = [7, 0, 1, 2, 0, 3, 0, 4, 2, 3, 0, 3, 2, 1, 2, 0, 1, 7, 0, 1]\n",
        "n = 3\n",
        "#FIFO(n, ref)\n",
        "#LRU(n,ref)\n",
        "#otimo(n,ref)"
      ],
      "metadata": {
        "id": "7xy4Yca5R39V"
      },
      "execution_count": 50,
      "outputs": []
    },
    {
      "cell_type": "code",
      "source": [
        "a = threading.Thread(target=LRU, args=(n,ref), name= 'LRU',  daemon=True)\n",
        "b = threading.Thread(target=FIFO,  args=(n,ref),name= 'FIFO',  daemon=True)\n",
        "c = threading.Thread(target=otimo, args=(n,ref), name= 'Otimo',  daemon=True)\n",
        "a.start()\n",
        "b.start()\n",
        "c.start()"
      ],
      "metadata": {
        "colab": {
          "base_uri": "https://localhost:8080/"
        },
        "id": "KAH9ruXpHb_l",
        "outputId": "928f29d4-5fd8-44ef-db35-04bee2bd7daf"
      },
      "execution_count": 53,
      "outputs": [
        {
          "output_type": "stream",
          "name": "stdout",
          "text": [
            "RLU:\n",
            "  Referencias:  [7, 0, 1, 2, 0, 3, 0, 4, 2, 3, 0, 3, 2, 1, 2, 0, 1, 7, 0, 1] 20\n",
            "  Falhas:  12\n",
            "  Acertos:  8\n",
            "FIFO:\n",
            "  Referencias:  [7, 0, 1, 2, 0, 3, 0, 4, 2, 3, 0, 3, 2, 1, 2, 0, 1, 7, 0, 1] 20\n",
            "  Falhas:  15\n",
            "  Acertos:  5\n",
            "OTIMO: \n",
            "  Referencias:  [7, 0, 1, 2, 0, 3, 0, 4, 2, 3, 0, 3, 2, 1, 2, 0, 1, 7, 0, 1] 20\n",
            "  Falhas:  9\n",
            "  Acertos:  11\n"
          ]
        }
      ]
    }
  ]
}