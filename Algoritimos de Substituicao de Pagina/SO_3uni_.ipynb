{
  "nbformat": 4,
  "nbformat_minor": 0,
  "metadata": {
    "colab": {
      "provenance": [],
      "authorship_tag": "ABX9TyNqesp15h5QBM95kZintD7N",
      "include_colab_link": true
    },
    "kernelspec": {
      "name": "python3",
      "display_name": "Python 3"
    },
    "language_info": {
      "name": "python"
    }
  },
  "cells": [
    {
      "cell_type": "markdown",
      "metadata": {
        "id": "view-in-github",
        "colab_type": "text"
      },
      "source": [
        "<a href=\"https://colab.research.google.com/github/aryelmedeiros/operating_systems/blob/main/Algoritimos%20de%20Substituicao%20de%20Pagina/SO_3uni_.ipynb\" target=\"_parent\"><img src=\"https://colab.research.google.com/assets/colab-badge.svg\" alt=\"Open In Colab\"/></a>"
      ]
    },
    {
      "cell_type": "markdown",
      "source": [
        "# Alagorimos de Substituição implementados com Threads\n"
      ],
      "metadata": {
        "id": "0MuFZCXhFuOL"
      }
    },
    {
      "cell_type": "markdown",
      "source": [
        "## Importando Bibliotecas"
      ],
      "metadata": {
        "id": "ZEzLBv-AF7dt"
      }
    },
    {
      "cell_type": "markdown",
      "source": [
        "Para conseguir trabalhar com multithreads em Pyhton, primeiro precisamos fazer a importação da biblioteca Threading. Essa biblioteca é que nos permitirá depois criar cada uma das threads do programa atraves da função `thread.Thread`, atribuimos uma variavel para essa função e passamos como argumentos o nome da função alvo que será processda na thread bem como os argumentos exigidos por aquela função"
      ],
      "metadata": {
        "id": "hJnR5L8nMmaf"
      }
    },
    {
      "cell_type": "code",
      "execution_count": 57,
      "metadata": {
        "id": "LzecG8MpFbax"
      },
      "outputs": [],
      "source": [
        "import numpy as np \n",
        "import threading \n",
        "import time"
      ]
    },
    {
      "cell_type": "markdown",
      "source": [
        "##Criando as funções `First-In First-Out (FIFO)`, `Least Recently Used(LRU)` e o algoritmo `Ótimo`\n"
      ],
      "metadata": {
        "id": "M2gIbgc7GGDZ"
      }
    },
    {
      "cell_type": "markdown",
      "source": [
        "Para cada uma das funções, passamos como parametros o numero de quadros disponivel e uma lista contendo com  as referências a páginas de um determinado processo.\n"
      ],
      "metadata": {
        "id": "Gop9J8tOUItd"
      }
    },
    {
      "cell_type": "markdown",
      "source": [
        "##FIFO"
      ],
      "metadata": {
        "id": "cYBLJ8eiUQWH"
      }
    },
    {
      "cell_type": "markdown",
      "source": [
        "\n",
        "O algoritmo FIFO significa que a primeira página à ocupar um quadro será também a primeira a desoculpa-lo quando chegar a vez de alocar um quadro para uma nova página. Sua implementação pode ser considereda simples, seu algoritmo intera sobre a lista de paginas e verifica se a pagina 'i' já existe na tabela, caso não exista ou os quadros já estejam todos ocupados, uma falha de página é computada na variavel 'falhas' e então a pagina é inserida na posição correspondente da tabela de quandros. Uma vez inserida, a variavel contador das posições 'j' da tabela move para o quadro seguinte linha sequinte.\n",
        "\n",
        "Caso a página já esteja inserida na tabela de quadros, um acerto é computado. Por fim, a função imprime na tela as refências de páginas verificadas e a quantidade de falhas e acertos computadas"
      ],
      "metadata": {
        "id": "YtVIbzeSG1Z_"
      }
    },
    {
      "cell_type": "code",
      "source": [
        "def FIFO (n_quadros,ref):\n",
        "\n",
        "  quadros = np.full(n_quadros, np.inf)\n",
        "  #print(quadros)\n",
        "  acertos = 0\n",
        "  falhas = 0\n",
        "  j=1\n",
        "\n",
        "  for i in range(0,len(ref)):\n",
        "    #print(\"REF \", ref[i])\n",
        "    if ref[i] in quadros:\n",
        "      #print(\"ACERTO: \", ref[i],'\\n')\n",
        "      acertos +=1\n",
        "    else:\n",
        "      #print(\"FALAHA :\" , ref[i],'\\n')\n",
        "      falhas += 1 \n",
        "      quadros[j] = ref[i]\n",
        "      #print(quadros[j], end=' ')\n",
        "      j+=1\n",
        "      if j >= n_quadros:\n",
        "        j = 0 \n",
        "        #print()\n",
        "         \n",
        "  #print()\n",
        "  print(\"FIFO:\")\n",
        "  print(\"  Referencias: \", ref, len(ref))\n",
        "  print(\"  Falhas: \", falhas)\n",
        "  print(\"  Acertos: \", acertos)"
      ],
      "metadata": {
        "id": "zN8HN_PfGFvM"
      },
      "execution_count": 58,
      "outputs": []
    },
    {
      "cell_type": "markdown",
      "source": [
        "## LRU\n",
        "\n",
        "O algoritmo LRU verifica sempre a página que não foi usada pelo menor periodo e caso não tenha mais quadros disponiveis, o quadro contendo essa página é liberado para receber a nova pagina. \n",
        "\n",
        "Tendo isso em vista, dentro da função a tabela de quadros é feita atraves de uma lista sempre ordenada com base no criteiro explicado. As paginas que não são usadas a mais tempo ficam no incio da lista e as páginas recem usadas ficam no fim. \n",
        "\n",
        "A funcão itera sobre a lista de paginas, caso a pagína já exista na tabela de quadros, um acerto é computado e a página é removida de sua posição e inserida no final da lista. Caso a página ainda não tenha sido alocada, ela é inserida normalmente se ainda existirem quadros livres. No momento que não existam mais quadros livres disponiveis, a pagina usada a mais tempo é liberada do inicio da lista e a nova é inserida no fim.\n",
        "\n",
        "Por fim, a função imprime na tela as refências de páginas verificadas e a quantidade de falhas e acertos computadas"
      ],
      "metadata": {
        "id": "-uJCwDQVb3vd"
      }
    },
    {
      "cell_type": "code",
      "source": [
        "\n",
        "def LRU(n_quadros, ref):\n",
        "\n",
        "  acertos  = 0\n",
        "  falhas = 0\n",
        "\n",
        "  pages = [] ### tabela de quadros\n",
        "  \n",
        "  for pag in ref:\n",
        "\n",
        "    # Se a página já existe na lsita de quadros, \n",
        "    # ela é removida e inserida novamente no fim\n",
        "    if pag in pages:\n",
        "        pages.remove(pag)     \n",
        "        pages.append(pag)\n",
        "        \n",
        "        # incrementa a quatidade de acertos\n",
        "        acertos += 1\n",
        "\n",
        "    # Se a pagina não existe na tabela de quadros,\n",
        "    # ela é adicionada no fim da lista e a pagina no inicio é removida\n",
        "    else:\n",
        "        # incrementa a quantidade de falhas\n",
        "        falhas +=1\n",
        "        \n",
        "        # verifica se a lista de quadros possui quadros ainda não alocados\n",
        "        # caso tenha, apenas adiciona a página no fim da fila\n",
        "        if(len(pages) < n_quadros):\n",
        "            pages.append(pag)\n",
        "        \n",
        "        # se todos os quadros disponiveis estejam ocupados, a pagina usada a mais tempo \n",
        "        # é removida do inicio da fila e a nova pagina é adicionada no final\n",
        "        else:\n",
        "            pages.remove(pages[0])\n",
        "            \n",
        "            pages.append(pag)\n",
        "\n",
        "  print(\"RLU:\")\n",
        "  print(\"  Referencias: \", ref, len(ref))\n",
        "  print(\"  Falhas: \", falhas)\n",
        "  print(\"  Acertos: \", acertos)\n",
        "\n",
        "\n"
      ],
      "metadata": {
        "id": "jPm-YqeGfhOM"
      },
      "execution_count": 59,
      "outputs": []
    },
    {
      "cell_type": "markdown",
      "source": [
        "##Algoritmo Ótimo\n",
        "\n",
        "O algotimo Ótimo verifica as páginas que ainda serão alocadas futuramente, com o intuito de perceber quais páginas serão mais usadas. Esse algoritmo é usado com o intuito de diminuir o numero de falhas de página.\n",
        "\n",
        "Esse algoritmo parte do principio que tova vez que não exitam quadros disponiveis, o quadro contendo a pagina que não terá demanda pelo maior periodo de tempo no furuto receberá a nova página.\n",
        "\n",
        "Assim como nos outros 2 algoritmos, essa funcão itera sobre a lista de referencias de páginas. Primeiro verifica se a pagina em questão já está em algum dos quadros e caso não esteja, verifica agora sé existem quadros livres. Se exiterem quadros livres a paginá é adicionada no fim da lista de quadros, caso não existam a função faz o calculo de qual das páginas já inseridas nos quadros será menos chaamda, o quandro contendo essa página recebe a nova página. Assim, uma falha é computada. \n",
        "\n",
        "Caso a página em questão já exista em algum dos quadros, um acerto a mais é computado. \n",
        "\n",
        "Por fim, a função imprime na tela as refências de páginas verificadas e a quantidade de falhas e acertos computadas\n"
      ],
      "metadata": {
        "id": "c7vw6-bxfavg"
      }
    },
    {
      "cell_type": "code",
      "source": [
        "def otimo(n_quadros,ref):\n",
        "\n",
        "  quadros = []\n",
        "  falhas = 0\n",
        "  acertos = 0\n",
        "  pf = 'Falha'\n",
        "\n",
        "  occurance = [None for i in range(n_quadros)]\n",
        "\n",
        "  # itera sobre a lista de paginas\n",
        "  for i in range(len(ref)): \n",
        "      if ref[i] not in quadros: #verifica se a pagina já ocupa algum quadro\n",
        "\n",
        "          # caso tenha quadros disponiveis, a pagina é adicionada ao fim.\n",
        "          if len(quadros)<n_quadros:\n",
        "              quadros.append(ref[i])\n",
        "\n",
        "          # caso todos os quadros estejam ocupados é calculada o quadro com a página\n",
        "          # que será menos usada futuramente e a posição dela na lista de quadros é usada receber a nova página   \n",
        "          else:\n",
        "              for x in range(len(quadros)):\n",
        "                  if quadros[x] not in ref[i+1:]:\n",
        "                      quadros[x] = ref[i]\n",
        "                      break\n",
        "                  else:\n",
        "                      occurance[x] = ref[i+1:].index(quadros[x])\n",
        "              else:\n",
        "                  quadros[occurance.index(max(occurance))] = ref[i]\n",
        "          falhas += 1\n",
        "          pf = 'Falha'\n",
        "\n",
        "      #Caso a página já exista em algum quadro    \n",
        "      else:\n",
        "          pf = 'Acerto'\n",
        "          acertos +=1\n",
        "\n",
        "  print(\"OTIMO: \")\n",
        "  print(\"  Referencias: \", ref, len(ref))\n",
        "  print(\"  Falhas: \", falhas)\n",
        "  print(\"  Acertos: \", acertos)"
      ],
      "metadata": {
        "id": "geZthKIHnf9z"
      },
      "execution_count": 60,
      "outputs": []
    },
    {
      "cell_type": "markdown",
      "source": [
        "## Iniciando as Threads "
      ],
      "metadata": {
        "id": "fW45gNFoHY37"
      }
    },
    {
      "cell_type": "markdown",
      "source": [
        "Antes de inicar as Threads para cada uma das funções apresentadas acima, definimos primeiro as variaveis que serão passadas como argumentos para elas. `ref` é o array contendo as refeencias para as páginas e `n` é o numero de quadros diponiveis. "
      ],
      "metadata": {
        "id": "uj9XmLAGe1cu"
      }
    },
    {
      "cell_type": "code",
      "source": [
        "ref = [1, 2, 3, 4, 2, 1, 5, 6, 2, 1, 2, 3, 7, 6, 3, 2, 1, 2, 6]\n",
        "n = 7"
      ],
      "metadata": {
        "id": "7xy4Yca5R39V"
      },
      "execution_count": 72,
      "outputs": []
    },
    {
      "cell_type": "markdown",
      "source": [
        "No código a seguir, 3 threads são criadas, uma para cada função dos algoritmos de substituição de página. Todas recebem os mesmos parametros de entrada. \n",
        "\n",
        "Em seguida cada uma das Threads é inciada. "
      ],
      "metadata": {
        "id": "3auUrNThfPGa"
      }
    },
    {
      "cell_type": "code",
      "source": [
        "a = threading.Thread(target=LRU, args=(n,ref), name= 'LRU',  daemon=True)\n",
        "b = threading.Thread(target=FIFO,  args=(n,ref),name= 'FIFO',  daemon=True)\n",
        "c = threading.Thread(target=otimo, args=(n,ref), name= 'Otimo',  daemon=True)\n",
        "a.start()\n",
        "b.start()\n",
        "c.start()"
      ],
      "metadata": {
        "colab": {
          "base_uri": "https://localhost:8080/"
        },
        "id": "KAH9ruXpHb_l",
        "outputId": "7feb04fa-b032-48c8-9981-b18dc0ca3461"
      },
      "execution_count": 73,
      "outputs": [
        {
          "output_type": "stream",
          "name": "stdout",
          "text": [
            "RLU:\n",
            "  Referencias:  [1, 2, 3, 4, 2, 1, 5, 6, 2, 1, 2, 3, 7, 6, 3, 2, 1, 2, 6] 19\n",
            "  Falhas:  7\n",
            "  Acertos:  12\n",
            "FIFO:\n",
            "  Referencias:  [1, 2, 3, 4, 2, 1, 5, 6, 2, 1, 2, 3, 7, 6, 3, 2, 1, 2, 6] 19\n",
            "  Falhas:  7\n",
            "  Acertos:  12\n",
            "OTIMO: \n",
            "  Referencias:  [1, 2, 3, 4, 2, 1, 5, 6, 2, 1, 2, 3, 7, 6, 3, 2, 1, 2, 6] 19\n",
            "  Falhas:  7\n",
            "  Acertos:  12\n"
          ]
        }
      ]
    },
    {
      "cell_type": "markdown",
      "source": [
        "## Resultados e Conclusões \n",
        "\n",
        "As threads foram inciadas com valores diferentes de quadros e o resultados obtidos foram os seguintes: \n",
        "\n",
        "\n",
        "\n",
        "\n",
        "*   Para 3 quadros: \n",
        "  \n",
        "\n",
        "```\n",
        "RLU:\n",
        "  Referencias:  [1, 2, 3, 4, 2, 1, 5, 6, 2, 1, 2, 3, 7, 6, 3, 2, 1, 2, 6] 19\n",
        "  Falhas:  15\n",
        "  Acertos:  4\n",
        "FIFO:\n",
        "  Referencias:  [1, 2, 3, 4, 2, 1, 5, 6, 2, 1, 2, 3, 7, 6, 3, 2, 1, 2, 6] 19\n",
        "  Falhas:  14\n",
        "  Acertos:  5\n",
        "OTIMO: \n",
        "  Referencias:  [1, 2, 3, 4, 2, 1, 5, 6, 2, 1, 2, 3, 7, 6, 3, 2, 1, 2, 6] 19\n",
        "  Falhas:  10\n",
        "  Acertos:  9\n",
        "```\n",
        "\n",
        "*   Para 4 quadros:\n",
        "\n",
        "```\n",
        "RLU:\n",
        "  Referencias:  [1, 2, 3, 4, 2, 1, 5, 6, 2, 1, 2, 3, 7, 6, 3, 2, 1, 2, 6] 19\n",
        "  Falhas:  10\n",
        "  Acertos:  9\n",
        "FIFO:\n",
        "  Referencias:  [1, 2, 3, 4, 2, 1, 5, 6, 2, 1, 2, 3, 7, 6, 3, 2, 1, 2, 6] 19\n",
        "  Falhas:  13\n",
        "  Acertos:  6\n",
        "OTIMO: \n",
        "  Referencias:  [1, 2, 3, 4, 2, 1, 5, 6, 2, 1, 2, 3, 7, 6, 3, 2, 1, 2, 6] 19\n",
        "  Falhas:  8\n",
        "  Acertos:  11\n",
        "```\n",
        "\n",
        "\n",
        "*   Para 5 quadros:\n",
        "\n",
        "```\n",
        "RLU:\n",
        "  Referencias:  [1, 2, 3, 4, 2, 1, 5, 6, 2, 1, 2, 3, 7, 6, 3, 2, 1, 2, 6] 19\n",
        "  Falhas:  8\n",
        "  Acertos:  11\n",
        "FIFO:\n",
        "  Referencias:  [1, 2, 3, 4, 2, 1, 5, 6, 2, 1, 2, 3, 7, 6, 3, 2, 1, 2, 6] 19\n",
        "  Falhas:  10\n",
        "  Acertos:  9\n",
        "OTIMO: \n",
        "  Referencias:  [1, 2, 3, 4, 2, 1, 5, 6, 2, 1, 2, 3, 7, 6, 3, 2, 1, 2, 6] 19\n",
        "  Falhas:  7\n",
        "  Acertos:  12\n",
        "```\n",
        "\n",
        "*   Para 6 quadros:\n",
        "\n",
        "```\n",
        "RLU:\n",
        "  Referencias:  [1, 2, 3, 4, 2, 1, 5, 6, 2, 1, 2, 3, 7, 6, 3, 2, 1, 2, 6] 19\n",
        "  Falhas:  7\n",
        "  Acertos:  12\n",
        "FIFO:\n",
        "  Referencias:  [1, 2, 3, 4, 2, 1, 5, 6, 2, 1, 2, 3, 7, 6, 3, 2, 1, 2, 6] 19\n",
        "  Falhas:  9\n",
        "  Acertos:  10\n",
        "OTIMO: \n",
        "  Referencias:  [1, 2, 3, 4, 2, 1, 5, 6, 2, 1, 2, 3, 7, 6, 3, 2, 1, 2, 6] 19\n",
        "  Falhas:  7\n",
        "  Acertos:  12\n",
        "```\n",
        "\n",
        "*   Para 7 quadros: \n",
        "\n",
        "```\n",
        "RLU:\n",
        "  Referencias:  [1, 2, 3, 4, 2, 1, 5, 6, 2, 1, 2, 3, 7, 6, 3, 2, 1, 2, 6] 19\n",
        "  Falhas:  7\n",
        "  Acertos:  12\n",
        "FIFO:\n",
        "  Referencias:  [1, 2, 3, 4, 2, 1, 5, 6, 2, 1, 2, 3, 7, 6, 3, 2, 1, 2, 6] 19\n",
        "  Falhas:  7\n",
        "  Acertos:  12\n",
        "OTIMO: \n",
        "  Referencias:  [1, 2, 3, 4, 2, 1, 5, 6, 2, 1, 2, 3, 7, 6, 3, 2, 1, 2, 6] 19\n",
        "  Falhas:  7\n",
        "  Acertos:  12\n",
        "```\n",
        "\n",
        "\n",
        "É possivel perceber que entre os 3 algoritmos, o que tem sempre o menor número de falhas de página é o Ótimo, enquanto o FIFO é o que possuí o maior e o RLU é o intermediario entre os dois.\n",
        "\n",
        "Porém, também é importante ressaltar que a diferença entre os 3 só é nítida para um número mais limitado de quadros, conforme esse número vai aumentando o numero de falhas dos 3 vão se a proximando ao menor possível. Para a referência das paginas passadas, com um quadro de tamnho 7 qualquer um dos algortimos escolhido apresentará o mesmo numero de falhas.\n",
        "\n"
      ],
      "metadata": {
        "id": "iG44xl7ofzfJ"
      }
    }
  ]
}